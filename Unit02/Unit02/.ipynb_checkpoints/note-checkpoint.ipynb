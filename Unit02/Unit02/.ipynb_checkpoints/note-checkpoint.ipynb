{
 "cells": [
  {
   "cell_type": "code",
   "execution_count": 10,
   "id": "b411e958-becd-4068-9715-c3159225a83c",
   "metadata": {},
   "outputs": [
    {
     "data": {
      "text/plain": [
       "array([[ 1,  2,  3,  4,  5],\n",
       "       [ 6,  7,  8,  9, 10]])"
      ]
     },
     "execution_count": 10,
     "metadata": {},
     "output_type": "execute_result"
    }
   ],
   "source": [
    "import numpy as np\n",
    "\n",
    "L = np.array([[1,2,3,4,5],[6,7,8,9,10]])\n",
    "L"
   ]
  },
  {
   "cell_type": "code",
   "execution_count": 11,
   "id": "c8893d5f-5277-4982-98c5-cf9d62c86811",
   "metadata": {},
   "outputs": [
    {
     "data": {
      "text/plain": [
       "8"
      ]
     },
     "execution_count": 11,
     "metadata": {},
     "output_type": "execute_result"
    }
   ],
   "source": [
    "L[1,2]"
   ]
  },
  {
   "cell_type": "code",
   "execution_count": 13,
   "id": "70c4893d-7faa-4aa2-8de6-d7ff6550446d",
   "metadata": {},
   "outputs": [
    {
     "name": "stdout",
     "output_type": "stream",
     "text": [
      "[1 2 3 4 5]\n",
      "[1. 2. 3. 4. 5.]\n"
     ]
    }
   ],
   "source": [
    "C = np.array([1,2,3,4,5], int)\n",
    "print(C)\n",
    "D = np.array([1,2,3,4,5], dtype=float)\n",
    "print(D)"
   ]
  },
  {
   "cell_type": "code",
   "execution_count": 44,
   "id": "95c82809-8835-4a6a-abbb-4f7d6a24f7b0",
   "metadata": {},
   "outputs": [
    {
     "name": "stdout",
     "output_type": "stream",
     "text": [
      "[0 1 2 3 4 5 6 7 8]\n",
      "[1 3 5]\n",
      "[3 4 5 6 7 8]\n",
      "[8 7 6 5 4 3 2 1 0]\n",
      "[0 2 4 6 8]\n",
      "[2 5 8]\n"
     ]
    }
   ],
   "source": [
    "E = np.arange(9)\n",
    "print(E)\n",
    "\n",
    "F = np.arange(1,6,2)\n",
    "print(F)\n",
    "\n",
    "b = E[3:]\n",
    "print(b)\n",
    "c = E[::-1]\n",
    "print(c)\n",
    "d = E[::2]\n",
    "print(d)\n",
    "F = E[2:9:3]\n",
    "print(F)"
   ]
  },
  {
   "cell_type": "code",
   "execution_count": 17,
   "id": "89a5049a-6582-44f8-a371-817c3083745f",
   "metadata": {},
   "outputs": [
    {
     "data": {
      "text/plain": [
       "array([[0, 0],\n",
       "       [0, 0]])"
      ]
     },
     "execution_count": 17,
     "metadata": {},
     "output_type": "execute_result"
    }
   ],
   "source": [
    "np.zeros((2,2), int)"
   ]
  },
  {
   "cell_type": "code",
   "execution_count": 20,
   "id": "ca4504f0-c3db-4be5-86d1-fa15abb3bee1",
   "metadata": {},
   "outputs": [
    {
     "data": {
      "text/plain": [
       "array([[ 0,  1,  2,  3],\n",
       "       [ 4,  5,  6,  7],\n",
       "       [ 8,  9, 10, 11],\n",
       "       [12, 13, 14, 15]])"
      ]
     },
     "execution_count": 20,
     "metadata": {},
     "output_type": "execute_result"
    }
   ],
   "source": [
    "a = np.arange(16)\n",
    "b = a.reshape((4,4))\n",
    "b"
   ]
  },
  {
   "cell_type": "code",
   "execution_count": 25,
   "id": "34e2c756-de09-4137-95c7-b444c443b2fa",
   "metadata": {},
   "outputs": [
    {
     "name": "stdout",
     "output_type": "stream",
     "text": [
      "[1 2 3 4 5] [ 6  7  8  9 10] \n",
      "1 2 3 4 5 6 7 8 9 10 "
     ]
    }
   ],
   "source": [
    "L = np.array([[1,2,3,4,5],[6,7,8,9,10]])\n",
    "for ele in L:\n",
    "    print(ele, end=' ')\n",
    "print()\n",
    "for ele1 in L:\n",
    "    for ele2 in ele1:\n",
    "        print(ele2, end=' ')"
   ]
  },
  {
   "cell_type": "code",
   "execution_count": 31,
   "id": "2c883236-c7df-4e88-acff-c80b7a57aeb1",
   "metadata": {},
   "outputs": [
    {
     "data": {
      "text/plain": [
       "array([[ 2.28699304, -0.07993159, -0.39263831,  0.54767839],\n",
       "       [-1.80748717, -1.21288439, -0.4817636 , -0.25127074],\n",
       "       [ 0.36805714, -1.10003101, -0.42927994,  0.06523331],\n",
       "       [ 0.27474172,  1.4163847 ,  0.5009089 , -0.40136549],\n",
       "       [-1.07005801,  1.12701103, -1.49642626,  0.26375702]])"
      ]
     },
     "execution_count": 31,
     "metadata": {},
     "output_type": "execute_result"
    }
   ],
   "source": [
    "import numpy as np\n",
    "a = np.random.randn(5,4)\n",
    "a"
   ]
  },
  {
   "cell_type": "code",
   "execution_count": 34,
   "id": "97f6e843-2dde-44a5-a6f4-57a436b00301",
   "metadata": {},
   "outputs": [
    {
     "data": {
      "text/plain": [
       "6.4031242374328485"
      ]
     },
     "execution_count": 34,
     "metadata": {},
     "output_type": "execute_result"
    }
   ],
   "source": [
    "import numpy as np\n",
    "a = np.array([1,3])\n",
    "b = np.array([5,8])\n",
    "norm_park = np.linalg.norm(a-b)\n",
    "norm_park"
   ]
  },
  {
   "cell_type": "code",
   "execution_count": 51,
   "id": "613f09a3-c141-434c-9a85-f0697ff3618b",
   "metadata": {
    "collapsed": true,
    "jupyter": {
     "outputs_hidden": true
    }
   },
   "outputs": [
    {
     "name": "stdout",
     "output_type": "stream",
     "text": [
      "[False  True False  True False  True]\n",
      "[ True False  True  True False]\n"
     ]
    }
   ],
   "source": [
    "import numpy as np\n",
    "b = np.array([1,2,3,4,5,6])\n",
    "mask = (b % 2 ==0)\n",
    "print(mask)\n",
    "\n",
    "mask1 = np.array([1,0,1,1,0], dtype = bool)\n",
    "print(mask1)"
   ]
  },
  {
   "cell_type": "code",
   "execution_count": 53,
   "id": "e3a6fb41-c22d-47f3-98b9-7fbfaa32040d",
   "metadata": {},
   "outputs": [
    {
     "data": {
      "text/plain": [
       "array([ 1,  2,  3,  4,  5,  6,  7,  8,  9, 10])"
      ]
     },
     "execution_count": 53,
     "metadata": {},
     "output_type": "execute_result"
    }
   ],
   "source": [
    "L = np.array([[1,2,3,4,5],[6,7,8,9,10]])\n",
    "b = L.ravel()\n",
    "b"
   ]
  },
  {
   "cell_type": "code",
   "execution_count": 61,
   "id": "bc5d2fca-50bb-46c0-a41b-2e0ceffe8a48",
   "metadata": {},
   "outputs": [
    {
     "data": {
      "text/plain": [
       "array([[ 1,  3,  6,  5,  8,  5],\n",
       "       [ 1,  3,  6,  8,  9, 10]])"
      ]
     },
     "execution_count": 61,
     "metadata": {},
     "output_type": "execute_result"
    }
   ],
   "source": [
    "import numpy as np\n",
    "a = np.array([[1,3,6],[1,3,6]])\n",
    "b = np.array([[5,8,5],[8,9,10]])\n",
    "\n",
    "c = np.concatenate((a,b), axis = 1)\n",
    "c"
   ]
  },
  {
   "cell_type": "code",
   "execution_count": 64,
   "id": "4d911b3e-29e9-4593-aa3f-04dd17cddc2d",
   "metadata": {},
   "outputs": [
    {
     "name": "stdout",
     "output_type": "stream",
     "text": [
      "[[0 1 2 3 4]\n",
      " [5 6 7 8 9]]\n"
     ]
    },
    {
     "data": {
      "text/plain": [
       "array([3.5, 4.5, 5.5, 6.5, 7.5])"
      ]
     },
     "execution_count": 64,
     "metadata": {},
     "output_type": "execute_result"
    }
   ],
   "source": [
    "x = np.arange(0, 10).reshape(2,5)\n",
    "print(x)\n",
    "weight = [0.3, 0.7]\n",
    "np.average(x, axis=0, weights=weight)"
   ]
  },
  {
   "cell_type": "code",
   "execution_count": 68,
   "id": "8c171d3f-bd93-4a8e-94b2-7a15e127174e",
   "metadata": {},
   "outputs": [
    {
     "data": {
      "text/plain": [
       "array([0, 0, 2, 0, 4, 0, 2, 8])"
      ]
     },
     "execution_count": 68,
     "metadata": {},
     "output_type": "execute_result"
    }
   ],
   "source": [
    "y = np.array([4,5,1,8,47,6,1,85])\n",
    "\n",
    "np.piecewise(y, [y<4, y>10], [lambda y:y*2, lambda y:y/10])"
   ]
  },
  {
   "cell_type": "code",
   "execution_count": null,
   "id": "01033ae9-6656-4586-ba29-8b8fecfcd198",
   "metadata": {},
   "outputs": [],
   "source": []
  },
  {
   "cell_type": "code",
   "execution_count": null,
   "id": "d736f1d4-82d0-41e5-ae9d-fd76ce7aaa6f",
   "metadata": {},
   "outputs": [],
   "source": []
  }
 ],
 "metadata": {
  "kernelspec": {
   "display_name": "Python 3",
   "language": "python",
   "name": "python3"
  },
  "language_info": {
   "codemirror_mode": {
    "name": "ipython",
    "version": 3
   },
   "file_extension": ".py",
   "mimetype": "text/x-python",
   "name": "python",
   "nbconvert_exporter": "python",
   "pygments_lexer": "ipython3",
   "version": "3.8.8"
  }
 },
 "nbformat": 4,
 "nbformat_minor": 5
}
